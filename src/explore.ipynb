{
 "cells": [
  {
   "cell_type": "markdown",
   "metadata": {},
   "source": [
    "Data prep"
   ]
  },
  {
   "cell_type": "code",
   "execution_count": null,
   "metadata": {},
   "outputs": [],
   "source": [
    "import tensorflow as tf\n",
    "import pandas as pd\n",
    "import numpy as np\n",
    "from sklearn.model_selection import train_test_split\n",
    "\n",
    "rawdf = pd.read_csv('../data/train.csv')\n",
    "\n",
    "rawdf['Alley'] = rawdf['Alley'].fillna('None')\n",
    "rawdf['MasVnrType'] = rawdf['MasVnrType'].fillna('None')\n",
    "rawdf['BsmtQual'] = rawdf['BsmtQual'].fillna('None')\n",
    "rawdf['BsmtCond'] = rawdf['BsmtCond'].fillna('None')\n",
    "rawdf['BsmtExposure'] = rawdf['BsmtExposure'].fillna('None')\n",
    "rawdf['BsmtFinType1'] = rawdf['BsmtFinType1'].fillna('None')\n",
    "rawdf['BsmtFinType2'] = rawdf['BsmtFinType2'].fillna('None')\n",
    "rawdf['Electrical'] = rawdf['Electrical'].fillna('None')\n",
    "rawdf['FireplaceQu'] = rawdf['FireplaceQu'].fillna('None')\n",
    "rawdf['GarageType'] = rawdf['GarageType'].fillna('None')\n",
    "rawdf['GarageFinish'] = rawdf['GarageFinish'].fillna('None')\n",
    "rawdf['GarageQual'] = rawdf['GarageQual'].fillna('None')\n",
    "rawdf['GarageCond'] = rawdf['GarageCond'].fillna('None')\n",
    "rawdf['PoolQC'] = rawdf['PoolQC'].fillna('None')\n",
    "rawdf['Fence'] = rawdf['Fence'].fillna('None')\n",
    "rawdf['MiscFeature'] = rawdf['MiscFeature'].fillna('None')\n",
    "\n",
    "y_df = rawdf['SalePrice']\n",
    "\n",
    "numcols = rawdf.dtypes[rawdf.dtypes != 'object'].keys()\n",
    "textcols = rawdf.dtypes[rawdf.dtypes == 'object'].keys()\n",
    "\n",
    "numdf = pd.DataFrame(rawdf[numcols])\n",
    "numdf.drop('SalePrice', axis=1, inplace=True)\n",
    "numdf.drop('Id', axis=1, inplace=True)\n",
    "\n",
    "normalized_df=(numdf-numdf.mean())/numdf.std()\n",
    "normalized_categories = pd.get_dummies(rawdf[textcols], dtype=float)\n",
    "\n",
    "X_df = pd.concat([normalized_df, normalized_categories], axis=1)\n",
    "\n",
    "X = np.array(X_df)\n",
    "y = np.array(y_df)\n",
    "\n",
    "# randomly split the data into training, cross validation and test sets\n",
    "random_state = 42\n",
    "\n",
    "X_train, X_blind, y_train, y_blind = train_test_split(\n",
    "    X, y, test_size=0.4, random_state=random_state)\n",
    "\n",
    "X_test, X_cv, y_test, y_cv = train_test_split(\n",
    "    X_blind, y_blind, test_size=0.5, random_state=random_state)"
   ]
  },
  {
   "cell_type": "code",
   "execution_count": 7,
   "metadata": {},
   "outputs": [
    {
     "data": {
      "text/plain": [
       "Id               False\n",
       "MSSubClass       False\n",
       "MSZoning         False\n",
       "LotFrontage       True\n",
       "LotArea          False\n",
       "                 ...  \n",
       "MoSold           False\n",
       "YrSold           False\n",
       "SaleType         False\n",
       "SaleCondition    False\n",
       "SalePrice        False\n",
       "Length: 81, dtype: bool"
      ]
     },
     "execution_count": 7,
     "metadata": {},
     "output_type": "execute_result"
    }
   ],
   "source": [
    "rawdf.isna().any()"
   ]
  },
  {
   "cell_type": "code",
   "execution_count": 6,
   "metadata": {},
   "outputs": [
    {
     "ename": "AttributeError",
     "evalue": "'numpy.ndarray' object has no attribute 'columns'",
     "output_type": "error",
     "traceback": [
      "\u001b[1;31m---------------------------------------------------------------------------\u001b[0m",
      "\u001b[1;31mAttributeError\u001b[0m                            Traceback (most recent call last)",
      "Cell \u001b[1;32mIn[6], line 5\u001b[0m\n\u001b[0;32m      2\u001b[0m \u001b[38;5;28;01mimport\u001b[39;00m \u001b[38;5;21;01mmath\u001b[39;00m\n\u001b[0;32m      4\u001b[0m \u001b[38;5;66;03m# Get the list of feature column names\u001b[39;00m\n\u001b[1;32m----> 5\u001b[0m feature_cols \u001b[38;5;241m=\u001b[39m \u001b[43mX\u001b[49m\u001b[38;5;241;43m.\u001b[39;49m\u001b[43mcolumns\u001b[49m\n\u001b[0;32m      6\u001b[0m n \u001b[38;5;241m=\u001b[39m \u001b[38;5;28mlen\u001b[39m(feature_cols)\n\u001b[0;32m      8\u001b[0m \u001b[38;5;66;03m# Set the number of rows and columns for the subplots\u001b[39;00m\n",
      "\u001b[1;31mAttributeError\u001b[0m: 'numpy.ndarray' object has no attribute 'columns'"
     ]
    }
   ],
   "source": [
    "import matplotlib.pyplot as plt\n",
    "import math\n",
    "\n",
    "# Get the list of feature column names\n",
    "feature_cols = X.columns\n",
    "n = len(feature_cols)\n",
    "\n",
    "# Set the number of rows and columns for the subplots\n",
    "num_rows = math.ceil(n / 4)\n",
    "num_cols = round(math.sqrt(n))\n",
    "\n",
    "# Create the subplots\n",
    "fig, axes = plt.subplots(num_rows, num_cols, figsize=(15, 18))\n",
    "\n",
    "# Flatten the axes array\n",
    "axes = axes.flatten()\n",
    "\n",
    "# Iterate over the feature columns and plot each feature against the target variable\n",
    "for i, feature in enumerate(feature_cols):\n",
    "    ax = axes[i]\n",
    "    ax.scatter(X[feature], y, alpha=0.5, c=X['OverallQual'], cmap='viridis')\n",
    "    ax.set_xlabel(feature)\n",
    "\n",
    "    # Remove the y-axis labels to prevent clutter\n",
    "    ax.set_yticklabels([])\n",
    "    # ax.set_ylabel('SalePrice')\n",
    "\n",
    "# Remove any extra subplots\n",
    "if len(feature_cols) < num_rows * num_cols:\n",
    "    for j in range(len(feature_cols), num_rows * num_cols):\n",
    "        fig.delaxes(axes[j])\n",
    "\n",
    "fig.suptitle('Feature vs SalePrice', fontsize=20, y=0.99)\n",
    "\n",
    "# Adjust the spacing between subplots\n",
    "fig.tight_layout()\n",
    "\n",
    "# Show the plot\n",
    "plt.show()\n"
   ]
  },
  {
   "cell_type": "code",
   "execution_count": null,
   "metadata": {},
   "outputs": [],
   "source": [
    "from features import plot_feature_vs_target\n",
    "import matplotlib.colors as mcolors\n",
    "\n",
    "cmap = mcolors.LinearSegmentedColormap.from_list('hmm', [\"red\", \"blue\"])\n",
    "# fig, axes = plot_feature_vs_target(plt, X, y, color_feature=X['OverallQual'], title='My Chart', )\n",
    "fig, axes = plot_feature_vs_target(plt, X, y, color_feature=X['OverallQual'], cmap=cmap )\n",
    "# fig, axes = plot_feature_vs_target(plt, X, y, color_feature=X['OverallQual'] )\n",
    "# fig, axes = plot_feature_vs_target(plt, X, y , color_feature=y)\n",
    "plt.show()"
   ]
  },
  {
   "cell_type": "markdown",
   "metadata": {},
   "source": [
    "NN model"
   ]
  },
  {
   "cell_type": "code",
   "execution_count": null,
   "metadata": {},
   "outputs": [],
   "source": [
    "epochs = 20\n",
    "\n",
    "model = tf.keras.Sequential([\n",
    "    tf.keras.layers.Dense(50, activation='relu'),\n",
    "    tf.keras.layers.Dense(50, activation='relu'),\n",
    "    tf.keras.layers.Dense(1)\n",
    "])\n",
    "\n",
    "model.compile(optimizer='adam',\n",
    "              loss=tf.keras.losses.MeanSquaredError(),\n",
    "              metrics=['accuracy'])\n",
    "\n",
    "history = model.fit(X_train, y_train, epochs=epochs, verbose=2, validation_data=(X_cv, y_cv))\n",
    "test_loss, test_acc = model.evaluate(X_test, y_test, verbose=2)\n"
   ]
  },
  {
   "cell_type": "code",
   "execution_count": null,
   "metadata": {},
   "outputs": [],
   "source": [
    "import matplotlib.pyplot as plt\n",
    "\n",
    "acc = history.history['accuracy']\n",
    "val_acc = history.history['val_accuracy']\n",
    "\n",
    "loss = history.history['loss']\n",
    "val_loss = history.history['val_loss']\n",
    "\n",
    "epochs_range = range(epochs)\n",
    "\n",
    "plt.figure(figsize=(8, 8))\n",
    "plt.subplot(1, 2, 1)\n",
    "plt.plot(epochs_range, acc, label='Training Accuracy')\n",
    "plt.plot(epochs_range, val_acc, label='Validation Accuracy')\n",
    "plt.legend(loc='lower right')\n",
    "plt.title('Training and Validation Accuracy')\n",
    "\n",
    "plt.subplot(1, 2, 2)\n",
    "plt.plot(epochs_range, loss, label='Training Loss')\n",
    "plt.plot(epochs_range, val_loss, label='Validation Loss')\n",
    "plt.legend(loc='upper right')\n",
    "plt.title('Training and Validation Loss')\n",
    "plt.show()"
   ]
  }
 ],
 "metadata": {
  "kernelspec": {
   "display_name": ".venv",
   "language": "python",
   "name": "python3"
  },
  "language_info": {
   "codemirror_mode": {
    "name": "ipython",
    "version": 3
   },
   "file_extension": ".py",
   "mimetype": "text/x-python",
   "name": "python",
   "nbconvert_exporter": "python",
   "pygments_lexer": "ipython3",
   "version": "3.10.8"
  }
 },
 "nbformat": 4,
 "nbformat_minor": 2
}
