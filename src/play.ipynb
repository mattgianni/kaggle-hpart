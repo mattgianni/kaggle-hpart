{
 "cells": [
  {
   "cell_type": "code",
   "execution_count": null,
   "metadata": {},
   "outputs": [],
   "source": [
    "import os\n",
    "import pandas as pd\n",
    "import matplotlib.pyplot as plt"
   ]
  },
  {
   "cell_type": "markdown",
   "metadata": {},
   "source": [
    "### Linear model + scikit-learn"
   ]
  },
  {
   "cell_type": "code",
   "execution_count": null,
   "metadata": {},
   "outputs": [],
   "source": [
    "from features import FeatureSet\n",
    "\n",
    "from sklearn import linear_model\n",
    "from sklearn.metrics import mean_squared_error, r2_score\n",
    "\n",
    "# xfeature = 'LotArea'\n",
    "xfeature = 'GrLivArea'\n",
    "yfeature = 'SalePrice'\n",
    "\n",
    "train_fs = FeatureSet(os.path.join('..', 'data', 'train.csv'), yfeature)\n",
    "\n",
    "# organize the training data\n",
    "sorted_df = pd.DataFrame({\n",
    "    xfeature: train_fs.rawdf[xfeature],\n",
    "    'Y': train_fs.y\n",
    "}).sort_values(by=xfeature).dropna()\n",
    "Xt = sorted_df[xfeature].to_numpy().reshape(-1, 1)\n",
    "Yt = sorted_df['Y'].to_numpy().reshape(-1, 1)\n",
    "\n",
    "cutoff = 3000\n",
    "\n",
    "# remove outliers and prep model data\n",
    "model_df = sorted_df[sorted_df[xfeature] < cutoff]\n",
    "\n",
    "# model_df = sorted_df\n",
    "Xmodel = model_df[xfeature].to_numpy().reshape(-1, 1)\n",
    "Ymodel = model_df['Y'].to_numpy().reshape(-1, 1)\n",
    "\n",
    "# create the model\n",
    "linear_m = linear_model.LinearRegression();\n",
    "linear_m.fit(Xmodel, Ymodel)\n",
    "\n",
    "# make predictions\n",
    "predictions = linear_m.predict(Xt)\n",
    "\n",
    "# plot the model against the data\n",
    "c = ['blue' if x < cutoff else 'red' for x in Xt]\n",
    "plt.scatter(Xt, Yt, alpha=0.5, color=c)\n",
    "plt.title(f'Scatter plot of {xfeature} vs {yfeature}\\ny = {round(linear_m.coef_[0][0])}x + {round(linear_m.intercept_[0])}')\n",
    "plt.xlabel(xfeature)\n",
    "plt.ylabel(yfeature)\n",
    "\n",
    "plt.plot(Xt, predictions, color='red', alpha=0.5, label='Model', ls='--', lw=1)\n",
    "plt.legend()\n",
    "\n",
    "plt.show()"
   ]
  },
  {
   "cell_type": "code",
   "execution_count": null,
   "metadata": {},
   "outputs": [],
   "source": [
    "from features import FeatureSet\n",
    "\n",
    "from sklearn import svm\n",
    "from sklearn import linear_model\n",
    "from sklearn.metrics import mean_squared_error, r2_score\n",
    "import numpy as np\n",
    "\n",
    "train_fs = FeatureSet(os.path.join('..', 'data', 'train.csv'), 'SalePrice')\n",
    "test_fs = FeatureSet(os.path.join('..', 'data', 'test.csv'))\n",
    "\n",
    "regr = svm.SVR(C=1000)\n",
    "regr.fit(train_fs.normalized_df, train_fs.y)\n",
    "\n",
    "predictions = regr.predict(test_fs.normalized_df)\n",
    "np.array([predictions])\n"
   ]
  }
 ],
 "metadata": {
  "kernelspec": {
   "display_name": ".venv",
   "language": "python",
   "name": "python3"
  },
  "language_info": {
   "codemirror_mode": {
    "name": "ipython",
    "version": 3
   },
   "file_extension": ".py",
   "mimetype": "text/x-python",
   "name": "python",
   "nbconvert_exporter": "python",
   "pygments_lexer": "ipython3",
   "version": "3.10.8"
  }
 },
 "nbformat": 4,
 "nbformat_minor": 2
}
