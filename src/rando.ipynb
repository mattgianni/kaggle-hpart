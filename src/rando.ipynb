{
 "cells": [
  {
   "cell_type": "code",
   "execution_count": null,
   "metadata": {},
   "outputs": [],
   "source": [
    "import tensorflow as tf\n",
    "from tensorflow.keras.regularizers import l1\n",
    "import matplotlib.pyplot as plt\n",
    "import numpy as np\n",
    "import scipy.io\n",
    "from sklearn.model_selection import train_test_split\n",
    "\n",
    "X = np.random.random((100000, 2)) * 2 - 1\n",
    "y = ((np.sin(X[:, 1] * np.pi * X[:,1] * 6) + np.cos(X[:, 0] * np.pi * X[:, 0] * 4)) > 0).astype(int)\n",
    "\n",
    "# randomly split the data into training, cross validation and test sets\n",
    "random_state = 42\n",
    "\n",
    "X_train, X_blind, y_train, y_blind = train_test_split(\n",
    "    X, y, test_size=0.2, random_state=random_state)\n",
    "\n",
    "X_test, X_cv, y_test, y_cv = train_test_split(\n",
    "    X_blind, y_blind, test_size=0.5, random_state=random_state)\n",
    "\n",
    "print(f'tf.__version__={tf.__version__}')\n",
    "print(f'X.shape={X.shape}')\n",
    "print(f'y.shape={y.shape}')\n",
    "print(f'y max={np.max(y)} y min={np.min(y)}')"
   ]
  },
  {
   "cell_type": "code",
   "execution_count": null,
   "metadata": {},
   "outputs": [],
   "source": [
    "plt.figure(figsize=(13, 4))\n",
    "\n",
    "plt.subplot(1, 3, 1)\n",
    "plt.scatter(X_train[:, 0], X_train[:, 1], c=y_train, s=1, cmap=plt.cm.Spectral)\n",
    "plt.title('Training Set')\n",
    "\n",
    "plt.subplot(1, 3, 2)\n",
    "plt.scatter(X_cv[:, 0], X_cv[:, 1], c=y_cv, s=1, cmap=plt.cm.Spectral)\n",
    "plt.title('Validation Set')\n",
    "\n",
    "plt.subplot(1, 3, 3)\n",
    "plt.scatter(X_test[:, 0], X_test[:, 1], c=y_test, s=1, cmap=plt.cm.Spectral)\n",
    "plt.title('Test Set')\n",
    "\n",
    "plt.show()\n"
   ]
  },
  {
   "cell_type": "code",
   "execution_count": null,
   "metadata": {},
   "outputs": [],
   "source": [
    "# setup the layers\n",
    "regfac = 0.00005\n",
    "model = tf.keras.models.Sequential([\n",
    "    tf.keras.layers.Dense(300, activation='relu', kernel_regularizer=l1(regfac)),\n",
    "    tf.keras.layers.Dense(300, activation='relu', kernel_regularizer=l1(regfac)),\n",
    "    tf.keras.layers.Dense(2, activation='sigmoid', kernel_regularizer=l1(regfac))\n",
    "])\n",
    "\n",
    "epochs = 200\n",
    "# Compile the model\n",
    "model.compile(optimizer='adam',\n",
    "              loss=tf.keras.losses.SparseCategoricalCrossentropy(from_logits=False),\n",
    "              metrics=['accuracy'])"
   ]
  },
  {
   "cell_type": "code",
   "execution_count": 4,
   "metadata": {},
   "outputs": [
    {
     "name": "stdout",
     "output_type": "stream",
     "text": [
      "\u001b[1m2500/2500\u001b[0m \u001b[32m━━━━━━━━━━━━━━━━━━━━\u001b[0m\u001b[37m\u001b[0m \u001b[1m23s\u001b[0m 9ms/step - accuracy: 0.9092 - loss: 0.2514 - val_accuracy: 0.9121 - val_loss: 0.2419\n",
      "Epoch 33/200\n",
      "\u001b[1m2500/2500\u001b[0m \u001b[32m━━━━━━━━━━━━━━━━━━━━\u001b[0m\u001b[37m\u001b[0m \u001b[1m4s\u001b[0m 2ms/step - accuracy: 0.9092 - loss: 0.2496 - val_accuracy: 0.9036 - val_loss: 0.2465\n",
      "Epoch 34/200\n",
      "\u001b[1m 227/2500\u001b[0m \u001b[32m━\u001b[0m\u001b[37m━━━━━━━━━━━━━━━━━━━\u001b[0m \u001b[1m14s\u001b[0m 6ms/step - accuracy: 0.9050 - loss: 0.2540"
     ]
    }
   ],
   "source": [
    "%%time\n",
    "history = model.fit(X_train, y_train, epochs=epochs, verbose=1, validation_data=(X_cv, y_cv))\n",
    "test_loss, test_acc = model.evaluate(X_test, y_test, verbose=1)"
   ]
  },
  {
   "cell_type": "code",
   "execution_count": null,
   "metadata": {},
   "outputs": [],
   "source": [
    "acc = history.history['accuracy']\n",
    "val_acc = history.history['val_accuracy']\n",
    "\n",
    "loss = history.history['loss']\n",
    "val_loss = history.history['val_loss']\n",
    "\n",
    "epochs_range = range(epochs)\n",
    "\n",
    "plt.figure(figsize=(10, 4))\n",
    "plt.subplot(1, 2, 1)\n",
    "plt.plot(epochs_range, acc, label='Training Accuracy')\n",
    "plt.plot(epochs_range, val_acc, label='Validation Accuracy')\n",
    "plt.legend(loc='lower right')\n",
    "plt.title('Training and Validation Accuracy')\n",
    "\n",
    "plt.subplot(1, 2, 2)\n",
    "plt.plot(epochs_range, loss, label='Training Loss')\n",
    "plt.plot(epochs_range, val_loss, label='Validation Loss')\n",
    "plt.legend(loc='upper right')\n",
    "plt.title('Training and Validation Loss')\n",
    "plt.show()\n",
    "\n",
    "print(f'test acc: {test_acc*100:0.2f}% test loss: {test_loss:0.3f}')"
   ]
  },
  {
   "cell_type": "code",
   "execution_count": null,
   "metadata": {},
   "outputs": [],
   "source": [
    "V1 = np.linspace(-1, 1, 150)\n",
    "V2 = np.linspace(-1, 1, 150)\n",
    "V1, V2 = np.meshgrid(V1, V2)\n",
    "XT = np.c_[V1.ravel(), V2.ravel()]\n",
    "Z = model.predict(XT)\n",
    "YT = np.argmax(Z, axis=1)\n"
   ]
  },
  {
   "cell_type": "code",
   "execution_count": null,
   "metadata": {},
   "outputs": [],
   "source": [
    "plt.figure(figsize=(13, 4))\n",
    "\n",
    "plt.subplot(1, 3, 1)\n",
    "plt.scatter(X_train[:, 0], X_train[:, 1], c=y_train, s=1, cmap=plt.cm.Spectral)\n",
    "plt.title('Training Set')\n",
    "\n",
    "plt.subplot(1, 3, 2)\n",
    "plt.scatter(XT[:, 0], XT[:, 1], c=Z[:, 1], s=1, cmap=plt.cm.Spectral)\n",
    "plt.title('Decision Boundary Soft')\n",
    "\n",
    "plt.subplot(1, 3, 3)\n",
    "plt.scatter(XT[:, 0], XT[:, 1], c=YT, s=1, cmap=plt.cm.Spectral)\n",
    "plt.title('Decision Boundary Hard')\n",
    "\n",
    "plt.show()"
   ]
  }
 ],
 "metadata": {
  "kernelspec": {
   "display_name": "Python 3 (ipykernel)",
   "language": "python",
   "name": "python3"
  },
  "language_info": {
   "codemirror_mode": {
    "name": "ipython",
    "version": 3
   },
   "file_extension": ".py",
   "mimetype": "text/x-python",
   "name": "python",
   "nbconvert_exporter": "python",
   "pygments_lexer": "ipython3",
   "version": "3.11.0rc1"
  }
 },
 "nbformat": 4,
 "nbformat_minor": 4
}
