{
 "cells": [
  {
   "cell_type": "code",
   "execution_count": null,
   "metadata": {},
   "outputs": [],
   "source": [
    "import matplotlib.pyplot as plt\n",
    "from sklearn.datasets import make_regression\n",
    "from sklearn.model_selection import train_test_split\n",
    "\n",
    "random_state = 42\n",
    "X, y = make_regression(random_state=random_state, n_features=1, noise=5)\n",
    "\n",
    "X_train, X_blind, y_train, y_blind = train_test_split(\n",
    "    X, y, test_size=0.4, random_state=random_state)\n",
    "\n",
    "X_test, X_cv, y_test, y_cv = train_test_split(\n",
    "    X_blind, y_blind, test_size=0.5, random_state=random_state)\n",
    "\n",
    "plt.scatter(X_train, y_train, alpha=0.5, color=\"black\", label=f\"train ({X_train.shape[0]})\")\n",
    "plt.scatter(X_test, y_test, alpha=0.5, color=\"red\", label=f\"test ({X_test.shape[0]})\")\n",
    "plt.scatter(X_cv, y_cv, alpha=0.5, color=\"green\", label=f\"cv ({X_cv.shape[0]})\")\n",
    "\n",
    "plt.legend()\n",
    "plt.show()"
   ]
  }
 ],
 "metadata": {
  "kernelspec": {
   "display_name": ".venv",
   "language": "python",
   "name": "python3"
  },
  "language_info": {
   "codemirror_mode": {
    "name": "ipython",
    "version": 3
   },
   "file_extension": ".py",
   "mimetype": "text/x-python",
   "name": "python",
   "nbconvert_exporter": "python",
   "pygments_lexer": "ipython3",
   "version": "3.10.8"
  }
 },
 "nbformat": 4,
 "nbformat_minor": 2
}
